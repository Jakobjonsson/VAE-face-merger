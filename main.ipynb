{
 "cells": [
  {
   "cell_type": "markdown",
   "id": "3ba7bca1",
   "metadata": {},
   "source": [
    "## Test project to explore the latent space in variational autoencoders ##\n",
    "\n",
    "Code written by Jakob Jonsson"
   ]
  },
  {
   "cell_type": "code",
   "execution_count": null,
   "id": "232a84e8",
   "metadata": {},
   "outputs": [],
   "source": [
    "# Importing packages\n",
    "\n",
    "import matplotlib.pyplot as plt\n",
    "import numpy as np\n",
    "import torch\n",
    "\n",
    "# Test"
   ]
  },
  {
   "cell_type": "code",
   "execution_count": null,
   "id": "4c6508c1",
   "metadata": {},
   "outputs": [],
   "source": []
  }
 ],
 "metadata": {
  "kernelspec": {
   "display_name": "Python 3",
   "language": "python",
   "name": "python3"
  },
  "language_info": {
   "codemirror_mode": {
    "name": "ipython",
    "version": 3
   },
   "file_extension": ".py",
   "mimetype": "text/x-python",
   "name": "python",
   "nbconvert_exporter": "python",
   "pygments_lexer": "ipython3",
   "version": "3.11.1"
  }
 },
 "nbformat": 4,
 "nbformat_minor": 5
}
